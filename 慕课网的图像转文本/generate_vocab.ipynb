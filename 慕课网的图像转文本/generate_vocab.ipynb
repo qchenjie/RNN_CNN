{
 "cells": [
  {
   "cell_type": "code",
   "execution_count": 8,
   "metadata": {},
   "outputs": [
    {
     "name": "stdout",
     "output_type": "stream",
     "text": [
      "82\n",
      "{2: 14,\n",
      " 3: 52,\n",
      " 4: 297,\n",
      " 5: 1109,\n",
      " 6: 3593,\n",
      " 7: 7895,\n",
      " 8: 11070,\n",
      " 9: 13165,\n",
      " 10: 14821,\n",
      " 11: 15427,\n",
      " 12: 14481,\n",
      " 13: 12919,\n",
      " 14: 11394,\n",
      " 15: 9952,\n",
      " 16: 8121,\n",
      " 17: 6628,\n",
      " 18: 5352,\n",
      " 19: 4353,\n",
      " 20: 3510,\n",
      " 21: 2763,\n",
      " 22: 2363,\n",
      " 23: 1779,\n",
      " 24: 1388,\n",
      " 25: 1169,\n",
      " 26: 1004,\n",
      " 27: 778,\n",
      " 28: 647,\n",
      " 29: 496,\n",
      " 30: 397,\n",
      " 31: 362,\n",
      " 32: 271,\n",
      " 33: 228,\n",
      " 34: 165,\n",
      " 35: 165,\n",
      " 36: 132,\n",
      " 37: 93,\n",
      " 38: 102,\n",
      " 39: 61,\n",
      " 40: 61,\n",
      " 41: 54,\n",
      " 42: 39,\n",
      " 43: 40,\n",
      " 44: 26,\n",
      " 45: 23,\n",
      " 46: 21,\n",
      " 47: 12,\n",
      " 48: 8,\n",
      " 49: 17,\n",
      " 50: 7,\n",
      " 51: 18,\n",
      " 52: 13,\n",
      " 53: 8,\n",
      " 54: 4,\n",
      " 55: 9,\n",
      " 56: 6,\n",
      " 57: 5,\n",
      " 58: 2,\n",
      " 59: 5,\n",
      " 60: 2,\n",
      " 61: 1,\n",
      " 62: 1,\n",
      " 63: 1,\n",
      " 64: 2,\n",
      " 65: 1,\n",
      " 66: 1,\n",
      " 67: 2,\n",
      " 68: 1,\n",
      " 69: 2,\n",
      " 70: 1,\n",
      " 71: 1,\n",
      " 72: 1,\n",
      " 73: 1,\n",
      " 75: 1,\n",
      " 79: 1,\n",
      " 82: 1}\n"
     ]
    }
   ],
   "source": [
    "import os\n",
    "import sys\n",
    "import pprint\n",
    "\n",
    "input_description_file = \"D:/BaiduNetdiskDownload/Rnn图像语义全部资料/深度学习之神经网络（CNN RNN GAN）算法原理+实战/课程数据/image_caption_data/results_20130124.token\"\n",
    "output_vocab_file = \"D:/BaiduNetdiskDownload/Rnn图像语义全部资料/深度学习之神经网络（CNN RNN GAN）算法原理+实战/课程数据/image_caption_data/vocab.txt\"\n",
    "\n",
    "\n",
    "def count_vocab(input_token_filename):\n",
    "    with open(input_token_filename, 'r',encoding='utf-8') as f:\n",
    "        lines = f.readlines()\n",
    "    #找出句子的最大值\n",
    "    max_length_of_sentences = 0\n",
    "    \n",
    "    length_dict = {}\n",
    "    vocab_dict = {}\n",
    "    \n",
    "    for line in lines:\n",
    "        #把前后的回车去掉，然后用空格来分割\n",
    "        image_id, description = line.strip('\\n').split('\\t')\n",
    "        \n",
    "        #默认以空格分隔，看下面的测试\n",
    "        words = description.strip(' ').split()\n",
    "        \n",
    "        #更新max_length_of_sentences\n",
    "        max_length_of_sentences = max(max_length_of_sentences, len(words))\n",
    "        #如果没有这个词\n",
    "        length_dict.setdefault(len(words), 0)\n",
    "        \n",
    "        length_dict[len(words)] += 1\n",
    "\n",
    "        for word in words:\n",
    "            vocab_dict.setdefault(word, 0)\n",
    "            vocab_dict[word] += 1\n",
    "    \n",
    "    #下面输出的最长的是82个字符，然后下面依次是长度：这个长度的个数\n",
    "    \n",
    "    print (max_length_of_sentences)\n",
    "    pprint.pprint(length_dict)\n",
    "    return vocab_dict\n",
    "\n",
    "vocab_dict = count_vocab(input_description_file)"
   ]
  },
  {
   "cell_type": "markdown",
   "metadata": {},
   "source": [
    "#### split是字符串的东西，不是字符的，默认以空格为分隔符，测试上面的第22行代码"
   ]
  },
  {
   "cell_type": "code",
   "execution_count": 4,
   "metadata": {},
   "outputs": [
    {
     "name": "stdout",
     "output_type": "stream",
     "text": [
      "['hao', 'rong', 'xu', 'jie']\n"
     ]
    }
   ],
   "source": [
    "chen=\"hao rong xu jie\"\n",
    "test=chen.split()\n",
    "print(test)"
   ]
  },
  {
   "cell_type": "code",
   "execution_count": 10,
   "metadata": {},
   "outputs": [],
   "source": [
    "sorted_vocab_dict = sorted(vocab_dict.items(), key = lambda d:d[1], reverse=True)\n",
    "with open(output_vocab_file, 'w',encoding='utf-8') as f:\n",
    "    f.write(\"<UNK>\\t100000\\n\")\n",
    "    for item in sorted_vocab_dict:\n",
    "        f.write('%s\\t%d\\n' % item)"
   ]
  },
  {
   "cell_type": "code",
   "execution_count": null,
   "metadata": {},
   "outputs": [],
   "source": []
  }
 ],
 "metadata": {
  "kernelspec": {
   "display_name": "Python 3 (ipykernel)",
   "language": "python",
   "name": "python3"
  },
  "language_info": {
   "codemirror_mode": {
    "name": "ipython",
    "version": 3
   },
   "file_extension": ".py",
   "mimetype": "text/x-python",
   "name": "python",
   "nbconvert_exporter": "python",
   "pygments_lexer": "ipython3",
   "version": "3.7.10"
  }
 },
 "nbformat": 4,
 "nbformat_minor": 2
}
