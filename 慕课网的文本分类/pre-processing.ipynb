{
 "cells": [
  {
   "cell_type": "code",
   "execution_count": 3,
   "metadata": {},
   "outputs": [],
   "source": [
    "# 分词\n",
    "# 词语 -> id\n",
    "#   matrix -> [|V|, embed_size]\n",
    "#   词语A -> id(5)\n",
    "#   词表\n",
    "\n",
    "# 说的清楚一点就是\n",
    "# 把一句话分成两个两个词语\n",
    "# 然后统计词频\n",
    "# 统计标签的频率\n",
    "\n",
    "\n",
    "\n",
    "# label -> id\n",
    "\n",
    "import sys\n",
    "import os\n",
    "import jieba # pip install jieba\n",
    "\n",
    "# input files\n",
    "#train_file = '../../text_classification_data/cnews.train.txt'\n",
    "#val_file = '../../text_classification_data/cnews.val.txt'\n",
    "#test_file = '../../text_classification_data/cnews.test.txt'\n",
    "\n",
    "\n",
    "train_file='D:/BaiduNetdiskDownload/Rnn图像语义全部资料/深度学习之神经网络（CNN RNN GAN）算法原理+实战/课程数据/text_classification_data/cnews.train.txt'\n",
    "val_file='D:/BaiduNetdiskDownload/Rnn图像语义全部资料/深度学习之神经网络（CNN RNN GAN）算法原理+实战/课程数据/text_classification_data/cnews.val.txt'\n",
    "test_file='D:/BaiduNetdiskDownload/Rnn图像语义全部资料/深度学习之神经网络（CNN RNN GAN）算法原理+实战/课程数据/text_classification_data/cnews.test.txt'\n",
    "\n",
    "\n",
    "\n",
    "\n",
    "# output files\n",
    "seg_train_file = 'D:/BaiduNetdiskDownload/Rnn图像语义全部资料/深度学习之神经网络（CNN RNN GAN）算法原理+实战/课程数据/text_classification_data/cnews.train.seg.txt'\n",
    "seg_val_file = 'D:/BaiduNetdiskDownload/Rnn图像语义全部资料/深度学习之神经网络（CNN RNN GAN）算法原理+实战/课程数据/text_classification_data/cnews.val.seg.txt'\n",
    "seg_test_file = 'D:/BaiduNetdiskDownload/Rnn图像语义全部资料/深度学习之神经网络（CNN RNN GAN）算法原理+实战/课程数据/text_classification_data/cnews.test.seg.txt'\n",
    "\n",
    "vocab_file = 'D:/BaiduNetdiskDownload/Rnn图像语义全部资料/深度学习之神经网络（CNN RNN GAN）算法原理+实战/课程数据/text_classification_data/cnews.vocab.txt'\n",
    "category_file = 'D:/BaiduNetdiskDownload/Rnn图像语义全部资料/深度学习之神经网络（CNN RNN GAN）算法原理+实战/课程数据/text_classification_data/cnews.category.txt'"
   ]
  },
  {
   "cell_type": "code",
   "execution_count": 2,
   "metadata": {},
   "outputs": [
    {
     "name": "stdout",
     "output_type": "stream",
     "text": [
      "Collecting jieba\n",
      "  Using cached jieba-0.42.1-py3-none-any.whl\n",
      "Installing collected packages: jieba\n",
      "Successfully installed jieba-0.42.1\n"
     ]
    }
   ],
   "source": [
    "!pip install jieba"
   ]
  },
  {
   "cell_type": "code",
   "execution_count": 11,
   "metadata": {},
   "outputs": [
    {
     "data": {
      "text/plain": [
       "'D:/BaiduNetdiskDownload/Rnn图像语义全部资料/深度学习之神经网络（CNN RNN GAN）算法原理+实战/课程数据/text_classification_data/cnews.train.seg.txt'"
      ]
     },
     "execution_count": 11,
     "metadata": {},
     "output_type": "execute_result"
    }
   ],
   "source": [
    "seg_train_file"
   ]
  },
  {
   "cell_type": "code",
   "execution_count": 3,
   "metadata": {},
   "outputs": [
    {
     "name": "stdout",
     "output_type": "stream",
     "text": [
      "D:\\BaiduNetdiskDownload\\Rnn图像语义全部资料\\深度学习之神经网络（CNN RNN GAN）算法原理+实战\\资料\\coding-259-master\\coding-259\\py2\\07-rnn-text-classification\n"
     ]
    }
   ],
   "source": [
    "import os\n",
    "print(os.path.abspath('.'))"
   ]
  },
  {
   "cell_type": "code",
   "execution_count": 4,
   "metadata": {},
   "outputs": [
    {
     "name": "stdout",
     "output_type": "stream",
     "text": [
      "['体育', '黄蜂vs湖人首发：科比带伤战保罗 加索尔救赎之战 新浪体育讯北京时间4月27日，NBA季后赛首轮洛杉矶湖人主场迎战新奥尔良黄蜂，此前的比赛中，双方战成2-2平，因此本场比赛对于两支球队来说都非常重要，赛前双方也公布了首发阵容：湖人队：费舍尔、科比、阿泰斯特、加索尔、拜纳姆黄蜂队：保罗、贝里内利、阿里扎、兰德里、奥卡福[新浪NBA官方微博][新浪NBA湖人新闻动态微博][新浪NBA专题][黄蜂vs湖人图文直播室](新浪体育)']\n"
     ]
    }
   ],
   "source": [
    "with open(val_file, 'r',encoding='utf-8') as f:\n",
    "    lines = f.readlines()\n",
    "\n",
    "#这里和文中的代码有点不同，就是encode的部分。 readline碰到分隔符就认为是下一行了\n",
    "#strip函数是剔除首位带回车和换行的， 你用notepad打开jupyter notebook的文件就可以看到了换行符显示成了那个\\n了\n",
    "\n",
    "label = lines[0].strip('\\r\\n')\n",
    "\n",
    "#print(label)\n",
    "\n",
    "#('/t'是空格的意思，这里的意思就是根据空格来划分)\n",
    "label = lines[0].strip('\\r\\n').split('\\t')\n",
    "\n",
    "print(label)\n",
    "\n",
    "\n"
   ]
  },
  {
   "cell_type": "code",
   "execution_count": 5,
   "metadata": {},
   "outputs": [
    {
     "name": "stdout",
     "output_type": "stream",
     "text": [
      "3abcrunoob3\n"
     ]
    }
   ],
   "source": [
    "str = \"123abcrunoob321\"\n",
    "print (str.strip( '12' )) "
   ]
  },
  {
   "cell_type": "code",
   "execution_count": 6,
   "metadata": {},
   "outputs": [
    {
     "name": "stderr",
     "output_type": "stream",
     "text": [
      "Building prefix dict from the default dictionary ...\n",
      "Loading model from cache C:\\Users\\ADMINI~1\\AppData\\Local\\Temp\\jieba.cache\n"
     ]
    },
    {
     "name": "stdout",
     "output_type": "stream",
     "text": [
      "5000\n",
      "体育\n",
      "黄蜂vs湖人首发：科比带伤战保罗 加索尔救赎之战 新浪体育讯北京时间4月27日，NBA季后赛首轮洛杉矶湖人主场迎战新奥尔良黄蜂，此前的比赛中，双方战成2-2平，因此本场比赛对于两支球队来说都非常重要，赛前双方也公布了首发阵容：湖人队：费舍尔、科比、阿泰斯特、加索尔、拜纳姆黄蜂队：保罗、贝里内利、阿里扎、兰德里、奥卡福[新浪NBA官方微博][新浪NBA湖人新闻动态微博][新浪NBA专题][黄蜂vs湖人图文直播室](新浪体育)\n"
     ]
    },
    {
     "name": "stderr",
     "output_type": "stream",
     "text": [
      "Loading model cost 0.472 seconds.\n",
      "Prefix dict has been built successfully.\n"
     ]
    },
    {
     "name": "stdout",
     "output_type": "stream",
     "text": [
      "黄蜂/ vs/ 湖人/ 首发/ ：/ 科比/ 带伤/ 战/ 保罗/  / 加索尔/ 救赎/ 之战/  / 新浪/ 体育讯/ 北京/ 时间/ 4/ 月/ 27/ 日/ ，/ NBA/ 季后赛/ 首轮/ 洛杉矶/ 湖人/ 主场/ 迎战/ 新奥尔良/ 黄蜂/ ，/ 此前/ 的/ 比赛/ 中/ ，/ 双方/ 战成/ 2/ -/ 2/ 平/ ，/ 因此/ 本场/ 比赛/ 对于/ 两支/ 球队/ 来说/ 都/ 非常/ 重要/ ，/ 赛前/ 双方/ 也/ 公布/ 了/ 首发/ 阵容/ ：/ 湖人队/ ：/ 费舍尔/ 、/ 科比/ 、/ 阿泰斯特/ 、/ 加索尔/ 、/ 拜纳姆/ 黄蜂队/ ：/ 保罗/ 、/ 贝里/ 内利/ 、/ 阿里/ 扎/ 、/ 兰德/ 里/ 、/ 奥卡福/ [/ 新浪/ NBA/ 官方/ 微博/ ]/ [/ 新浪/ NBA/ 湖人/ 新闻动态/ 微博/ ]/ [/ 新浪/ NBA/ 专题/ ]/ [/ 黄蜂/ vs/ 湖人/ 图文/ 直播室/ ]/ (/ 新浪/ 体育/ )\n"
     ]
    }
   ],
   "source": [
    "with open(val_file, 'r',encoding='utf-8') as f:\n",
    "    lines = f.readlines()\n",
    "    \n",
    "print(len(lines)) #去百度搜怎样查list的长度\n",
    "\n",
    "#这里和文中的代码有点不同，就是encode的部分。 readline碰到分隔符就认为是下一行了\n",
    "#strip函数是剔除首位带回车和换行的，\n",
    "label, content = lines[0].strip('\\r\\n').split('\\t')\n",
    "\n",
    "#根据句子把长句子划成短词,返回的word_iter是一个迭代器，看下面的使用方法\n",
    "word_iter = jieba.cut(content)\n",
    "\n",
    "print(label) #体育\n",
    "\n",
    "#python2 3的代码不同，3的就必须要带上括号\n",
    "print (content)\n",
    "print ('/ '.join(word_iter))\n",
    "\n",
    "\n",
    "# seq1 = ['hello','good','boy','doiido']\n",
    "# >>> print ' '.join(seq1)\n",
    "# hello good boy doiido\n",
    "# >>> print ':'.join(seq1)\n",
    "# hello:good:boy:doiido\n",
    "\n"
   ]
  },
  {
   "cell_type": "code",
   "execution_count": 4,
   "metadata": {},
   "outputs": [
    {
     "name": "stderr",
     "output_type": "stream",
     "text": [
      "Building prefix dict from the default dictionary ...\n",
      "Loading model from cache C:\\Users\\ADMINI~1\\AppData\\Local\\Temp\\jieba.cache\n",
      "Loading model cost 0.495 seconds.\n",
      "Prefix dict has been built successfully.\n"
     ]
    }
   ],
   "source": [
    "def generate_seg_file(input_file, output_seg_file):\n",
    "    \"\"\"Segment the sentences in each line in input_file\"\"\"\n",
    "    with open(input_file, 'r',encoding='utf-8') as f:\n",
    "        lines = f.readlines()\n",
    "    with open(output_seg_file, 'wb+') as f:\n",
    "        for line in lines:\n",
    "            label, content = line.strip('\\r\\n').split('\\t')\n",
    "            word_iter = jieba.cut(content)\n",
    "            word_content = ''\n",
    "            for word in word_iter:\n",
    "                #先去掉空格，价格那玩意本身就是空格，通过下面的函数也能转成空\n",
    "                word = word.strip(' ')\n",
    "                if word != '':\n",
    "                    word_content += word + ' '\n",
    "            #下面这行代码就有意思了,%s是占位符，label和word_content分别对应两个占位符\\t是空格 \\n是回车， 就是label（空格） word_content \n",
    "            #可以打开cnews.val.seg看看第一行\n",
    "            out_line = '%s\\t%s\\n' % (label, word_content.strip(' '))\n",
    "            f.write(out_line.encode('utf-8'))\n",
    "\n",
    "generate_seg_file(train_file, seg_train_file)\n",
    "generate_seg_file(val_file, seg_val_file)\n",
    "generate_seg_file(test_file, seg_test_file)"
   ]
  },
  {
   "cell_type": "code",
   "execution_count": null,
   "metadata": {},
   "outputs": [],
   "source": [
    "下面的报错是没有问题的，他就是提醒你某些字段编码不了，然后编码不了的那些字符就不会输出了"
   ]
  },
  {
   "cell_type": "code",
   "execution_count": 14,
   "metadata": {},
   "outputs": [],
   "source": [
    "def generate_vocab_file(input_seg_file, output_vocab_file):\n",
    "    with open(input_seg_file, 'r',encoding='utf-8') as f:\n",
    "        lines = f.readlines()\n",
    "    word_dict = {}\n",
    "    for line in lines:\n",
    "        label, content = line.strip('\\r\\n').split('\\t')\n",
    "        #Python字典的一个自带方法 setdefault ,如果 word变量对应的Key不在字典中了，那么此时就会添加这个Key，然后把它的值设置为0\n",
    "        for word in content.split():\n",
    "            word_dict.setdefault(word, 0)\n",
    "            word_dict[word] += 1\n",
    "    # [(word, frequency), ..., ()] ， sorted是python自带的\n",
    "    sorted_word_dict = sorted(\n",
    "        word_dict.items(), key = lambda d:d[1], reverse=True)  \n",
    "    # 看这个链接 : https://www.cnblogs.com/lyj0123/p/13431972.html\n",
    "    with open(output_vocab_file, 'wb+') as f:\n",
    "        #f.write('<UNK>\\t10000000\\n') 这段话自己加上去就好了\n",
    "        for item in sorted_word_dict:\n",
    "            out_line_vocab=('%s\\t%d\\n' % (item[0], item[1]))\n",
    "            f.write(out_line_vocab.encode('utf-8'))\n",
    "\n",
    "generate_vocab_file(seg_train_file, vocab_file)\n",
    "\n",
    "\n",
    "#Python3的str 默认不是bytes，所以不能decode，只能先encode转为bytes，再decode\n",
    "#python2的str 默认是bytes，所以能decode\n",
    "#  直接输出一下代码可能就知道了  https://www.runoob.com/python3/python3-string-encode.html\n",
    "    \n",
    "    \n",
    "    "
   ]
  },
  {
   "cell_type": "code",
   "execution_count": 8,
   "metadata": {},
   "outputs": [
    {
     "name": "stdout",
     "output_type": "stream",
     "text": [
      "体育\t5000\n",
      "娱乐\t5000\n",
      "家居\t5000\n",
      "房产\t5000\n",
      "教育\t5000\n",
      "时尚\t5000\n",
      "时政\t5000\n",
      "游戏\t5000\n",
      "科技\t5000\n",
      "财经\t5000\n"
     ]
    }
   ],
   "source": [
    "def generate_category_dict(input_file, category_file):\n",
    "    with open(input_file, 'r',encoding='utf-8') as f:\n",
    "        lines = f.readlines()\n",
    "    category_dict = {}\n",
    "    for line in lines:\n",
    "        label, content = line.strip('\\r\\n').split('\\t')\n",
    "        category_dict.setdefault(label, 0)\n",
    "        category_dict[label] += 1\n",
    "    category_number = len(category_dict)\n",
    "    with open(category_file, 'w') as f:\n",
    "        for category in category_dict:\n",
    "            line = '%s\\n' % category\n",
    "            print ('%s\\t%d' % (category,category_dict[category]))\n",
    "            f.write(line)\n",
    "            \n",
    "generate_category_dict(train_file, category_file)\n",
    "            \n",
    "            "
   ]
  },
  {
   "cell_type": "code",
   "execution_count": null,
   "metadata": {},
   "outputs": [],
   "source": []
  }
 ],
 "metadata": {
  "kernelspec": {
   "display_name": "Python 3 (ipykernel)",
   "language": "python",
   "name": "python3"
  },
  "language_info": {
   "codemirror_mode": {
    "name": "ipython",
    "version": 3
   },
   "file_extension": ".py",
   "mimetype": "text/x-python",
   "name": "python",
   "nbconvert_exporter": "python",
   "pygments_lexer": "ipython3",
   "version": "3.7.10"
  }
 },
 "nbformat": 4,
 "nbformat_minor": 2
}
